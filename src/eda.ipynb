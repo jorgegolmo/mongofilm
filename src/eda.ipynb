{
 "cells": [
  {
   "cell_type": "markdown",
   "id": "117afc1a",
   "metadata": {},
   "source": [
    "This notebook contains the Exploratory Data Analysis for Exercise 3 of TDT4225 - Autumn 2025/2026.\n",
    "\n",
    "In this EDA we will analyze and clean the CSVs provided by the professors, to obtain data we can insert into the MongoDB database and work with. First, we will takinga  look at an overview of the data."
   ]
  },
  {
   "cell_type": "code",
   "execution_count": null,
   "id": "fe7fc475",
   "metadata": {},
   "outputs": [],
   "source": [
    "from pathlib import Path\n",
    "import polars as pl\n",
    "\n",
    "pl.Config.set_tbl_cols(-1)\n",
    "pl.Config.set_tbl_rows(-1)\n",
    "pl.Config.set_fmt_str_lengths(1024)\n",
    "\n",
    "dat = Path(__file__).resolve().parent.parent / \"dat\"\n",
    "\n",
    "csvs = {}\n",
    "csvs[\"movies\"] = pl.read_csv(dat / \"origin\" / \"movies_metadata.csv\", ignore_errors = True) # Clean up invalid values\n",
    "csvs[\"credits\"] = pl.read_csv(dat / \"origin\" / \"credits.csv\")\n",
    "csvs[\"keywords\"] = pl.read_csv(dat / \"origin\" / \"keywords.csv\")\n",
    "csvs[\"ratings\"] = pl.read_csv(dat / \"origin\" / \"ratings.csv\")\n",
    "csvs[\"links\"] = pl.read_csv(dat / \"origin\" / \"links.csv\")\n",
    "\n",
    "def summary(df):\n",
    "    print(pl.DataFrame({\n",
    "        \"column\": df.columns,\n",
    "        \"type\": [dtype for dtype in df.dtypes],\n",
    "        \"length\": [df.height for col in df.columns],\n",
    "        \"nulls\": [df[col].null_count() for col in df.columns],\n",
    "        \"uniques\": [df[col].n_unique() for col in df.columns],\n",
    "        \"repeats\": [df[col].count() - df[col].n_unique() for col in df.columns],\n",
    "        \"min\": [df[col].min() for col in df.columns],\n",
    "        \"max\": [df[col].max() for col in df.columns],\n",
    "        \"head\": [df[col].first() for col in df.columns]\n",
    "    }, strict=False))\n",
    "    print()\n",
    "\n",
    "\n",
    "for file in csvs.keys():\n",
    "    print(\"----- \" + file + \" -----\")\n",
    "    summary(csvs[file])"
   ]
  },
  {
   "cell_type": "markdown",
   "id": "8c7c5c77",
   "metadata": {},
   "source": [
    "We can see that the data is varied and large so, for the sake of simplicity, we will go CSV by CSV analyzing and cleaning it. Let's start with the movie metadata."
   ]
  },
  {
   "cell_type": "code",
   "execution_count": null,
   "id": "041a2c22",
   "metadata": {},
   "outputs": [],
   "source": [
    "summary(csvs[\"movies\"])"
   ]
  },
  {
   "cell_type": "markdown",
   "id": "b39ccae4",
   "metadata": {},
   "source": [
    "\n",
    "# Metadata\n",
    "\n",
    "The metadata CSV contains, as its name says. The movie metadata. It's first field is whether the film is an adult one. It contains null values, but otherwise is just True/False (the number of unique values being three takes into account the null ones). We have decided to remove the films with null values so as to assure the quality of the data.\n",
    "\n",
    "A similar phenomenon occurs with the bugdet. It's an integer field which contains null values, which we shall clean for the same reason. The same case occurs with the original_language, overview, popularity, revenue, runtime, status, title, video, vote_average and vote_count fields.\n",
    "\n",
    "In addition, by looking at the numeric fields, we can disclose that the values are adequate (no negative budget, no negative vote count vote_average goes from 0-10, etc.). We also check that status does not have an unknown option that we could default the nulls to and found no data to clean in original_title."
   ]
  },
  {
   "cell_type": "code",
   "execution_count": null,
   "id": "2847d6f0",
   "metadata": {},
   "outputs": [],
   "source": [
    "csvs[\"movies\"] = csvs[\"movies\"].drop_nulls([\"adult\", \"budget\", \"original_language\", \"overview\", \"popularity\", \"revenue\", \"runtime\", \"status\", \"title\", \"video\", \"vote_average\", \"vote_count\"])\n",
    "summary(csvs[\"movies\"])\n",
    "print(csvs[\"movies\"][\"status\"].unique())"
   ]
  },
  {
   "cell_type": "markdown",
   "id": "202c9e83",
   "metadata": {},
   "source": [
    "In case of id and imdb_id, we will also remove repeated values, along with the null ones.\n",
    "\n",
    "Though similar, in title and poster_path we decided to keep repeated entries because, while not common, it could be the case that two different movies have the same title or image."
   ]
  },
  {
   "cell_type": "code",
   "execution_count": null,
   "id": "81dff8af",
   "metadata": {},
   "outputs": [],
   "source": [
    "csvs[\"movies\"] = csvs[\"movies\"].drop_nulls([\"imdb_id\"]).unique(subset=[\"id\"]).unique(subset=[\"imdb_id\"])\n",
    "summary(csvs[\"movies\"])"
   ]
  },
  {
   "cell_type": "markdown",
   "id": "4838bc46",
   "metadata": {},
   "source": [
    "Next up is release_date, which will have its data changed to datetime as we deem it more appropiate. In this conversion we will also drop invalid dates and null entries."
   ]
  },
  {
   "cell_type": "code",
   "execution_count": null,
   "id": "e6a7ea42",
   "metadata": {},
   "outputs": [],
   "source": [
    "csvs[\"movies\"] = csvs[\"movies\"].with_columns(pl.col(\"release_date\").str.strptime(pl.Date, format=\"%Y-%m-%d\", strict=False)).drop_nulls([\"release_date\"])\n",
    "summary(csvs[\"movies\"])"
   ]
  },
  {
   "cell_type": "markdown",
   "id": "490a5e25",
   "metadata": {},
   "source": [
    "In the case of belongs_to_collection, homepage and tagline we will leave them nullable as the sheer amount of null values would make deleting them a bad choice. In addition, poster_path will also be nullable for consistency, as in the JSON fields (examinated later) its amount of null values also makes leaving the field as is the better option. Furthermore, the homepages are always valid HTTP/HTTPS URLs."
   ]
  },
  {
   "cell_type": "markdown",
   "id": "4ba454fb",
   "metadata": {},
   "source": [
    "The only fields remaining are the ones formatted as JSON lists. For pruning them, we will first remove invalid JSON and check the values."
   ]
  },
  {
   "cell_type": "code",
   "execution_count": null,
   "id": "449a2350",
   "metadata": {},
   "outputs": [],
   "source": [
    "from ast import literal_eval as parse\n",
    "\n",
    "def is_json(string):\n",
    "    try:\n",
    "        return isinstance(parse(string), (list, dict))\n",
    "    except Exception:\n",
    "        return False\n",
    "\n",
    "json_cols = [\n",
    "    \"belongs_to_collection\",\n",
    "    \"genres\",\n",
    "    \"production_companies\",\n",
    "    \"production_countries\",\n",
    "    \"spoken_languages\"\n",
    "]\n",
    "\n",
    "for col in json_cols:\n",
    "    csvs[\"movies\"] = csvs[\"movies\"].filter(\n",
    "        pl.col(col).is_null() |\n",
    "        pl.col(col).map_elements(is_json, return_dtype=pl.Boolean)\n",
    "    )\n",
    "    print(csvs[\"movies\"][col].drop_nulls().head(1))\n",
    "summary(csvs[\"movies\"])"
   ]
  },
  {
   "cell_type": "markdown",
   "id": "e79ce378",
   "metadata": {},
   "source": [
    "We have discerned that belongs_to_collection is a list of (id, name, poster_path, backdrop_path), genres is a list of (id, name), production_companies is a list of (name, id), production companies is a list of (iso_3166_1, name) and spoken_languages is another list of (iso_639_1, name). The next step is finding out if the JSON data needs cleaning."
   ]
  },
  {
   "cell_type": "code",
   "execution_count": null,
   "id": "217a52a1",
   "metadata": {
    "lines_to_next_cell": 2
   },
   "outputs": [],
   "source": [
    "from json import dumps\n",
    "for col in json_cols:\n",
    "    print(\"----- \" + col + \" -----\")\n",
    "    data = []\n",
    "    for item in csvs[\"movies\"][col].drop_nulls():\n",
    "        json = parse(item)\n",
    "        if isinstance(json, dict):\n",
    "            data.append(json)\n",
    "        else:\n",
    "            data.extend(json)\n",
    "    summary(pl.DataFrame(list({dumps(item, sort_keys=True): item for item in data}.values())))"
   ]
  },
  {
   "cell_type": "markdown",
   "id": "9afce053",
   "metadata": {},
   "source": [
    "We can see, however, that the data seems to already be in order: the IDs are always positive if numeric (and seem to be valid ISO codes otherwise) and are never repeated, and there are no null values except for the image paths."
   ]
  },
  {
   "cell_type": "markdown",
   "id": "8f097bc1",
   "metadata": {},
   "source": [
    "After the metadata CSV has been cleaned, we will move on to its credit counterpart."
   ]
  },
  {
   "cell_type": "code",
   "execution_count": null,
   "id": "db609014",
   "metadata": {},
   "outputs": [],
   "source": [
    "summary(csvs[\"credits\"])"
   ]
  },
  {
   "cell_type": "markdown",
   "id": "dd47f2e5",
   "metadata": {},
   "source": [
    "In this case, there are not null values and all the IDs are positive, but we need to eliminate the repeats."
   ]
  },
  {
   "cell_type": "code",
   "execution_count": null,
   "id": "c2008323",
   "metadata": {},
   "outputs": [],
   "source": [
    "csvs[\"credits\"] = csvs[\"credits\"].unique(subset=[\"id\"])\n",
    "summary(csvs[\"credits\"])"
   ]
  },
  {
   "cell_type": "markdown",
   "id": "f66c4d7b",
   "metadata": {},
   "source": [
    "Now let us do the same procedure for the JSON fields as with the previous CSV."
   ]
  },
  {
   "cell_type": "code",
   "execution_count": null,
   "id": "2268192b",
   "metadata": {},
   "outputs": [],
   "source": [
    "json_cols = [\n",
    "    \"cast\",\n",
    "    \"crew\"\n",
    "]\n",
    "\n",
    "for col in json_cols:\n",
    "    csvs[\"credits\"] = csvs[\"credits\"].filter(\n",
    "        pl.col(col).is_null() |\n",
    "        pl.col(col).map_elements(is_json, return_dtype=pl.Boolean)\n",
    "    )\n",
    "summary(csvs[\"credits\"])\n",
    "\n",
    "for col in json_cols:\n",
    "    print(\"----- \" + col + \" -----\")\n",
    "    data = []\n",
    "    for item in csvs[\"credits\"][col].drop_nulls():\n",
    "        json = parse(item)\n",
    "        if isinstance(json, dict):\n",
    "            data.append(json)\n",
    "        else:\n",
    "            data.extend(json)\n",
    "    summary(pl.DataFrame(list({dumps(item, sort_keys=True): item for item in data}.values())))"
   ]
  },
  {
   "cell_type": "markdown",
   "id": "8e22afa1",
   "metadata": {},
   "source": [
    "All of the null data are image paths, so we will leave them as is like their previous counterparts. On the other hand, we see that the IDs, while taking positive values, are repeated, but the primary key seems to be id-credit_id in both cases, and since credit_id has no repeats, the entries can still be uniquely identified."
   ]
  },
  {
   "cell_type": "markdown",
   "id": "0b711297",
   "metadata": {},
   "source": [
    "After the credits CSV has been sorted out, the next step is cleaning the keywords one."
   ]
  },
  {
   "cell_type": "code",
   "execution_count": null,
   "id": "d5e38578",
   "metadata": {},
   "outputs": [],
   "source": [
    "summary(csvs[\"keywords\"])"
   ]
  },
  {
   "cell_type": "markdown",
   "id": "ed4f2902",
   "metadata": {},
   "source": [
    "The keywords CSV is very similar, so we will continue by doing the same procedure"
   ]
  },
  {
   "cell_type": "code",
   "execution_count": null,
   "id": "07ef30a5",
   "metadata": {},
   "outputs": [],
   "source": [
    "csvs[\"keywords\"] = csvs[\"keywords\"].unique(subset=[\"id\"])\n",
    "\n",
    "csvs[\"keywords\"] = csvs[\"keywords\"].filter(\n",
    "    pl.col(\"keywords\").is_null() |\n",
    "    pl.col(\"keywords\").map_elements(is_json, return_dtype=pl.Boolean)\n",
    ")\n",
    "summary(csvs[\"keywords\"])\n",
    "\n",
    "print(\"----- keywords -----\")\n",
    "data = []\n",
    "for item in csvs[\"keywords\"][\"keywords\"].drop_nulls():\n",
    "    json = parse(item)\n",
    "    if isinstance(json, dict):\n",
    "        data.append(json)\n",
    "    else:\n",
    "        data.extend(json)\n",
    "summary(pl.DataFrame(list({dumps(item, sort_keys=True): item for item in data}.values())))"
   ]
  },
  {
   "cell_type": "markdown",
   "id": "ac932f7e",
   "metadata": {},
   "source": [
    "The JSON data is already clean. There are no null values and the IDs are unique positive integers."
   ]
  },
  {
   "cell_type": "markdown",
   "id": "0777f68e",
   "metadata": {},
   "source": [
    "As the whole keywords CSV is therefore clean, we will continue with the ratings dataset."
   ]
  },
  {
   "cell_type": "code",
   "execution_count": null,
   "id": "4052c643",
   "metadata": {},
   "outputs": [],
   "source": [
    "summary(csvs[\"ratings\"])"
   ]
  },
  {
   "cell_type": "markdown",
   "id": "7aa4e404",
   "metadata": {},
   "source": [
    "We can see that this dataset contains a large amount of data, but it seems to be of good quality. There are no null values and all of the numbers seem to be appropiate (all of them positive, ratings from 0 to 5...) but the IDs are repeated. We will not remove entries indiscriminately, though, as the unique identifier for each entry is userId - movieId. We have to check if that subset is repeated."
   ]
  },
  {
   "cell_type": "code",
   "execution_count": null,
   "id": "f33a60d3",
   "metadata": {},
   "outputs": [],
   "source": [
    "csvs[\"ratings\"] = csvs[\"ratings\"].unique(subset=[\"userId\", \"movieId\"])\n",
    "summary(csvs[\"ratings\"])"
   ]
  },
  {
   "cell_type": "markdown",
   "id": "6f3fac46",
   "metadata": {},
   "source": [
    "No changes happened, so this data was already clean. As there are no JSON fields, the analysis of this CSV is done."
   ]
  },
  {
   "cell_type": "markdown",
   "id": "36ad70a3",
   "metadata": {},
   "source": [
    "The last CSV remaining is the links one, so we will take a look at it."
   ]
  },
  {
   "cell_type": "code",
   "execution_count": null,
   "id": "07c9c167",
   "metadata": {},
   "outputs": [],
   "source": [
    "summary(csvs[\"links\"])"
   ]
  },
  {
   "cell_type": "markdown",
   "id": "60dfafa0",
   "metadata": {},
   "source": [
    "The only problem is the presence of null values, so we will delete those entries.\n",
    "\n",
    "csvs[\"links\"] = csvs[\"links\"].drop_nulls()"
   ]
  },
  {
   "cell_type": "markdown",
   "id": "16c8a232",
   "metadata": {},
   "source": [
    "Each CSV only contains clean data now, but since credits and links both point to movie IDs, we will delete the entries inside of them that point to non-existent IDs and viceversa."
   ]
  },
  {
   "cell_type": "code",
   "execution_count": null,
   "id": "95544546",
   "metadata": {},
   "outputs": [],
   "source": [
    "csvs[\"movies\"] = csvs[\"movies\"].join(csvs[\"credits\"].select(\"id\"), on=\"id\", how=\"semi\").join(csvs[\"links\"].select(pl.col(\"tmdbId\").alias(\"id\")), on=\"id\", how=\"semi\")\n",
    "csvs[\"credits\"] = csvs[\"credits\"].join(csvs[\"movies\"].select(\"id\"), on=\"id\", how=\"semi\")\n",
    "csvs[\"links\"] = csvs[\"links\"].join(csvs[\"movies\"].select(pl.col(\"id\").alias(\"tmdbId\")), on=\"tmdbId\", how=\"semi\")\n",
    "\n",
    "for file in [\"movies\", \"credits\", \"links\"]:\n",
    "    print(\"----- \" + file + \" -----\")\n",
    "    summary(csvs[file])"
   ]
  },
  {
   "cell_type": "markdown",
   "id": "56c6a734",
   "metadata": {},
   "source": [
    "Also, ratings points to the ratings' ID, so we will remove ratings that point to non-existent movies."
   ]
  },
  {
   "cell_type": "code",
   "execution_count": null,
   "id": "c4c5a4f1",
   "metadata": {},
   "outputs": [],
   "source": [
    "csvs[\"ratings\"] = csvs[\"ratings\"].filter(csvs[\"ratings\"][\"movieId\"].is_in(csvs[\"links\"][\"movieId\"]))\n",
    "summary(csvs[\"ratings\"])"
   ]
  },
  {
   "cell_type": "markdown",
   "id": "bc7084ad",
   "metadata": {},
   "source": [
    "Finally, we will write the datasets to disk in new, clean CSVs"
   ]
  },
  {
   "cell_type": "code",
   "execution_count": null,
   "id": "3ad88cbc",
   "metadata": {},
   "outputs": [],
   "source": [
    "for file in csvs.keys():\n",
    "    csvs[file].write_csv(dat / \"clean\" / (file + \".csv\"))"
   ]
  }
 ],
 "metadata": {
  "jupytext": {
   "cell_metadata_filter": "-all",
   "formats": "ipynb,py:percent",
   "main_language": "python"
  }
 },
 "nbformat": 4,
 "nbformat_minor": 5
}
